{
 "cells": [
  {
   "cell_type": "markdown",
   "metadata": {},
   "source": [
    "# 1. Import Library"
   ]
  },
  {
   "cell_type": "code",
   "execution_count": 1,
   "metadata": {
    "collapsed": false
   },
   "outputs": [
    {
     "name": "stderr",
     "output_type": "stream",
     "text": [
      "Using TensorFlow backend.\n"
     ]
    }
   ],
   "source": [
    "import tensorflow as tf\n",
    "from tensorflow.examples.tutorials.mnist import input_data\n",
    "from keras.preprocessing.image import ImageDataGenerator\n",
    "import numpy as np\n",
    "import pandas as pd\n",
    "import matplotlib.pyplot as plt\n",
    "from datetime import datetime\n",
    "%matplotlib inline\n",
    "tf.logging.set_verbosity(tf.logging.ERROR)"
   ]
  },
  {
   "cell_type": "markdown",
   "metadata": {},
   "source": [
    "# 2. Set Random Seed"
   ]
  },
  {
   "cell_type": "code",
   "execution_count": 2,
   "metadata": {
    "collapsed": true
   },
   "outputs": [],
   "source": [
    "random_seed = 2017\n",
    "np.random.seed(random_seed)\n",
    "tf.set_random_seed(random_seed)"
   ]
  },
  {
   "cell_type": "markdown",
   "metadata": {},
   "source": [
    "# 3. Load MNIST Data"
   ]
  },
  {
   "cell_type": "code",
   "execution_count": 3,
   "metadata": {
    "collapsed": false
   },
   "outputs": [
    {
     "name": "stdout",
     "output_type": "stream",
     "text": [
      "Extracting MNIST_data/train-images-idx3-ubyte.gz\n",
      "Extracting MNIST_data/train-labels-idx1-ubyte.gz\n",
      "Extracting MNIST_data/t10k-images-idx3-ubyte.gz\n",
      "Extracting MNIST_data/t10k-labels-idx1-ubyte.gz\n",
      "number of MNIST train data : 55000\n",
      "number of MNIST test data  : 10000\n"
     ]
    }
   ],
   "source": [
    "mnist = input_data.read_data_sets(\"MNIST_data/\", one_hot=True)\n",
    "\n",
    "print('number of MNIST train data : %5d' % len(mnist.train.images))\n",
    "print('number of MNIST test data  : %5d' % len(mnist.test.images))"
   ]
  },
  {
   "cell_type": "markdown",
   "metadata": {},
   "source": [
    "# 4. Data Augmentation\n",
    "- Rotation (Range = 10, 20, 30)\n",
    "- Width Shift (Range = 0.1, 0.2, 0.3)"
   ]
  },
  {
   "cell_type": "code",
   "execution_count": 4,
   "metadata": {
    "collapsed": true
   },
   "outputs": [],
   "source": [
    "augmentation_size = 440000\n",
    "\n",
    "images = np.concatenate((mnist.train.images.reshape(-1, 28, 28, 1), mnist.validation.images.reshape(-1, 28, 28, 1)), axis=0)\n",
    "labels = np.concatenate((mnist.train.labels, mnist.validation.labels), axis=0)\n",
    "\n",
    "datagen_list = [\n",
    "                ImageDataGenerator(rotation_range=10),\n",
    "                ImageDataGenerator(rotation_range=20),\n",
    "                ImageDataGenerator(rotation_range=30),\n",
    "                ImageDataGenerator(width_shift_range=0.1),\n",
    "                ImageDataGenerator(width_shift_range=0.2),\n",
    "                ImageDataGenerator(width_shift_range=0.3),\n",
    "               ]\n",
    "\n",
    "for datagen in datagen_list:\n",
    "    datagen.fit(images)\n",
    "    for image, label in datagen.flow(images, labels, batch_size=augmentation_size, shuffle=True, seed=random_seed):\n",
    "        images = np.concatenate((images, image), axis=0)\n",
    "        labels = np.concatenate((labels, label), axis=0)\n",
    "        break\n",
    "        \n",
    "images = images.reshape(-1, 784)        "
   ]
  },
  {
   "cell_type": "code",
   "execution_count": 5,
   "metadata": {
    "collapsed": false
   },
   "outputs": [
    {
     "name": "stdout",
     "output_type": "stream",
     "text": [
      "final number of train data : 1800000\n",
      "images shape :  (1800000, 784)\n",
      "labels shape :  (1800000, 10)\n"
     ]
    }
   ],
   "source": [
    "print('final number of train data : %7d' % len(images))\n",
    "print('images shape : ', images.shape)\n",
    "print('labels shape : ', labels.shape)"
   ]
  },
  {
   "cell_type": "markdown",
   "metadata": {},
   "source": [
    "# 5. Parameter"
   ]
  },
  {
   "cell_type": "code",
   "execution_count": 6,
   "metadata": {
    "collapsed": true
   },
   "outputs": [],
   "source": [
    "epochs = 30\n",
    "conv_filters = [64, 128, 128, 128, 128]\n",
    "conv_kernerls = [3, 3]\n",
    "dens_units= [1024, 1024, 10]\n",
    "keep_prob = 0.5\n",
    "learning_rate = 0.0001\n",
    "batch_size = 256\n",
    "\n",
    "conv_active_fn = tf.nn.elu\n",
    "dens_active_fn = tf.nn.elu"
   ]
  },
  {
   "cell_type": "markdown",
   "metadata": {},
   "source": [
    "# 6. Modeling"
   ]
  },
  {
   "cell_type": "markdown",
   "metadata": {},
   "source": [
    "### Placeholder"
   ]
  },
  {
   "cell_type": "code",
   "execution_count": 7,
   "metadata": {
    "collapsed": true
   },
   "outputs": [],
   "source": [
    "input_data = tf.placeholder(tf.float32, shape=[None, 784])\n",
    "label_data = tf.placeholder(tf.float32, shape=[None, 10])\n",
    "train_mode = tf.placeholder(tf.bool)"
   ]
  },
  {
   "cell_type": "markdown",
   "metadata": {},
   "source": [
    "### Convolutional Layers"
   ]
  },
  {
   "cell_type": "code",
   "execution_count": 8,
   "metadata": {
    "collapsed": false
   },
   "outputs": [],
   "source": [
    "conv1_1 = tf.layers.conv2d(inputs=tf.reshape(input_data, [-1, 28, 28, 1]), filters=conv_filters[0], kernel_size=conv_kernerls, padding='SAME', activation=conv_active_fn, kernel_initializer=tf.contrib.layers.xavier_initializer_conv2d())\n",
    "conv1_2 = tf.layers.conv2d(inputs=conv1_1, filters=conv_filters[1], kernel_size=conv_kernerls, padding='SAME', activation=conv_active_fn, kernel_initializer=tf.contrib.layers.xavier_initializer_conv2d())\n",
    "pool1 = tf.layers.max_pooling2d(inputs=conv1_2, pool_size=[2, 2], padding='valid', strides=2)\n",
    "dropout1 = tf.layers.dropout(inputs=pool1, rate=keep_prob, training=train_mode)\n",
    "\n",
    "conv2_1 = tf.layers.conv2d(inputs=dropout1, filters=conv_filters[2], kernel_size=conv_kernerls, padding='SAME', activation=conv_active_fn, kernel_initializer=tf.contrib.layers.xavier_initializer_conv2d())\n",
    "conv2_2 = tf.layers.conv2d(inputs=conv2_1, filters=conv_filters[3], kernel_size=conv_kernerls, padding='SAME', activation=conv_active_fn, kernel_initializer=tf.contrib.layers.xavier_initializer_conv2d())\n",
    "pool2 = tf.layers.max_pooling2d(inputs=conv2_2, pool_size=[2, 2], padding='valid', strides=2)\n",
    "dropout2 = tf.layers.dropout(inputs=pool2, rate=keep_prob, training=train_mode)\n",
    "\n",
    "conv3 = tf.layers.conv2d(inputs=dropout2, filters=conv_filters[4], kernel_size=conv_kernerls, padding='SAME', activation=conv_active_fn, kernel_initializer=tf.contrib.layers.xavier_initializer_conv2d())\n",
    "pool3 = tf.layers.max_pooling2d(inputs=conv3, pool_size=[2, 2], padding='valid', strides=2)\n",
    "dropout3 = tf.layers.dropout(inputs=pool3, rate=keep_prob, training=train_mode)"
   ]
  },
  {
   "cell_type": "markdown",
   "metadata": {},
   "source": [
    "### Fully Connected Layers"
   ]
  },
  {
   "cell_type": "code",
   "execution_count": 9,
   "metadata": {
    "collapsed": true
   },
   "outputs": [],
   "source": [
    "flat = tf.reshape(dropout3, [-1, dropout3.shape[1].value*dropout3.shape[2].value*dropout3.shape[3].value])\n",
    "dense1 = tf.layers.dense(inputs=flat, units=dens_units[0],activation=dens_active_fn, kernel_initializer=tf.contrib.layers.xavier_initializer())\n",
    "dropout4 = tf.layers.dropout(inputs=dense1, rate=keep_prob, training=train_mode)\n",
    "dense2 = tf.layers.dense(inputs=dropout4, units=dens_units[1],activation=dens_active_fn, kernel_initializer=tf.contrib.layers.xavier_initializer())\n",
    "dropout5 = tf.layers.dropout(inputs=dense2, rate=keep_prob, training=train_mode)\n",
    "logits = tf.layers.dense(inputs=dropout5, units=dens_units[2],activation=tf.nn.softmax, kernel_initializer=tf.contrib.layers.xavier_initializer())"
   ]
  },
  {
   "cell_type": "markdown",
   "metadata": {},
   "source": [
    "### Define Cost_fn, Optimizer"
   ]
  },
  {
   "cell_type": "code",
   "execution_count": 10,
   "metadata": {
    "collapsed": true
   },
   "outputs": [],
   "source": [
    "cost = tf.reduce_mean(tf.nn.softmax_cross_entropy_with_logits(logits=logits, labels=label_data))\n",
    "optimizer = tf.train.AdamOptimizer(learning_rate=learning_rate).minimize(cost)\n",
    "correct_prediction = tf.equal(tf.argmax(logits, 1), tf.argmax(label_data, 1))\n",
    "accuracy = tf.reduce_mean(tf.cast(correct_prediction, tf.float32))"
   ]
  },
  {
   "cell_type": "markdown",
   "metadata": {},
   "source": [
    "# 7. Training"
   ]
  },
  {
   "cell_type": "code",
   "execution_count": null,
   "metadata": {
    "collapsed": true
   },
   "outputs": [],
   "source": [
    "sess = tf.InteractiveSession()\n",
    "sess.run(tf.global_variables_initializer())"
   ]
  },
  {
   "cell_type": "code",
   "execution_count": null,
   "metadata": {
    "collapsed": false,
    "scrolled": false
   },
   "outputs": [
    {
     "name": "stdout",
     "output_type": "stream",
     "text": [
      "Training Start : 2017-05-01 13:30:00.632804\n",
      "\n"
     ]
    }
   ],
   "source": [
    "start_time = datetime.now()\n",
    "print('Training Start : %s\\n' % start_time)\n",
    "for epoch in range(epochs):\n",
    "    epoch_start_time = datetime.now()\n",
    "    total_batch = int(len(images) / batch_size)\n",
    "    for batch in range(total_batch):\n",
    "        batch_xs, batch_ys = images[batch * batch_size : (batch + 1) * batch_size], labels[batch * batch_size : (batch + 1) * batch_size]\n",
    "        _, loss, train_acc = sess.run([optimizer, cost, accuracy], feed_dict={input_data: batch_xs, label_data: batch_ys, train_mode: True})\n",
    "    print('Epoch : %2d | Train Accuracy : %f | Epoch Time : %s' % (epoch, train_acc, datetime.now() - epoch_start_time))\n",
    "end_time = datetime.now()\n",
    "print('\\nTraining Finish : %s\\n' % (end_time))"
   ]
  },
  {
   "cell_type": "markdown",
   "metadata": {},
   "source": [
    "# 8. Testing"
   ]
  },
  {
   "cell_type": "code",
   "execution_count": null,
   "metadata": {
    "collapsed": false
   },
   "outputs": [],
   "source": [
    "test_acc = 0\n",
    "for i in range(20):\n",
    "    batch_x, batch_y = mnist.test.next_batch(500)\n",
    "    test_acc += np.equal(sess.run(tf.argmax(logits,1), feed_dict={input_data: batch_x, train_mode: False}), np.argmax(batch_y, 1)).sum()\n",
    "print('Test Accuracy : %.4f' % (test_acc / 10000))"
   ]
  },
  {
   "cell_type": "code",
   "execution_count": null,
   "metadata": {
    "collapsed": true
   },
   "outputs": [],
   "source": []
  }
 ],
 "metadata": {
  "anaconda-cloud": {},
  "kernelspec": {
   "display_name": "Python [Root]",
   "language": "python",
   "name": "Python [Root]"
  },
  "language_info": {
   "codemirror_mode": {
    "name": "ipython",
    "version": 3
   },
   "file_extension": ".py",
   "mimetype": "text/x-python",
   "name": "python",
   "nbconvert_exporter": "python",
   "pygments_lexer": "ipython3",
   "version": "3.5.1"
  }
 },
 "nbformat": 4,
 "nbformat_minor": 0
}
